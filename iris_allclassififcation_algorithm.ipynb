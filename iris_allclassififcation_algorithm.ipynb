{
 "cells": [
  {
   "cell_type": "code",
   "execution_count": 1,
   "id": "e8138288",
   "metadata": {
    "scrolled": false
   },
   "outputs": [],
   "source": [
    "import numpy as np\n",
    "import pandas as pd\n",
    "import matplotlib.pyplot as plt\n",
    "import seaborn as sb"
   ]
  },
  {
   "cell_type": "code",
   "execution_count": 2,
   "id": "1ac07a0c",
   "metadata": {
    "scrolled": false
   },
   "outputs": [],
   "source": [
    "df=pd.read_csv(\"iris.csv\")"
   ]
  },
  {
   "cell_type": "code",
   "execution_count": 3,
   "id": "1765cc3c",
   "metadata": {
    "scrolled": false
   },
   "outputs": [
    {
     "data": {
      "text/plain": [
       "sepal_length    0\n",
       "sepal_width     0\n",
       "petal_length    0\n",
       "petal_width     0\n",
       "species         0\n",
       "dtype: int64"
      ]
     },
     "execution_count": 3,
     "metadata": {},
     "output_type": "execute_result"
    }
   ],
   "source": [
    "df.isnull().sum()"
   ]
  },
  {
   "cell_type": "code",
   "execution_count": 4,
   "id": "ccbeb69a",
   "metadata": {
    "scrolled": false
   },
   "outputs": [
    {
     "data": {
      "text/plain": [
       "sepal_length    float64\n",
       "sepal_width     float64\n",
       "petal_length    float64\n",
       "petal_width     float64\n",
       "species          object\n",
       "dtype: object"
      ]
     },
     "execution_count": 4,
     "metadata": {},
     "output_type": "execute_result"
    }
   ],
   "source": [
    "df.dtypes"
   ]
  },
  {
   "cell_type": "code",
   "execution_count": 5,
   "id": "4f2d09f4",
   "metadata": {
    "scrolled": false
   },
   "outputs": [
    {
     "data": {
      "text/plain": [
       "3"
      ]
     },
     "execution_count": 5,
     "metadata": {},
     "output_type": "execute_result"
    }
   ],
   "source": [
    "df.duplicated().sum()"
   ]
  },
  {
   "cell_type": "code",
   "execution_count": 6,
   "id": "22903d33",
   "metadata": {
    "scrolled": false
   },
   "outputs": [],
   "source": [
    "df.drop_duplicates(inplace=True)"
   ]
  },
  {
   "cell_type": "code",
   "execution_count": 7,
   "id": "fe1b97ad",
   "metadata": {
    "scrolled": false
   },
   "outputs": [
    {
     "data": {
      "image/png": "[encoded data removed]",
      "text/plain": [
       "<Figure size 432x288 with 1 Axes>"
      ]
     },
     "metadata": {
      "needs_background": "light"
     },
     "output_type": "display_data"
    }
   ],
   "source": [
    "sb.countplot(data=df,x='species')\n",
    "f=df['species'].value_counts()\n",
    "plt.yticks(f)\n",
    "plt.show()\n",
    "#so the data is balanced"
   ]
  },
  {
   "cell_type": "code",
   "execution_count": 8,
   "id": "a1d596fe",
   "metadata": {
    "scrolled": false
   },
   "outputs": [],
   "source": [
    "#apply label encoder on species\n",
    "from sklearn.preprocessing import LabelEncoder\n",
    "le=LabelEncoder()\n",
    "df['species']=le.fit_transform(df['species'])"
   ]
  },
  {
   "cell_type": "code",
   "execution_count": 9,
   "id": "0fea2c50",
   "metadata": {
    "scrolled": false
   },
   "outputs": [],
   "source": [
    "#select input adnd outut\n",
    "x=df.drop('species',axis=1)\n",
    "y=df['species']"
   ]
  },
  {
   "cell_type": "code",
   "execution_count": 10,
   "id": "a5f70c90",
   "metadata": {
    "scrolled": false
   },
   "outputs": [],
   "source": [
    "#split the data\n",
    "from sklearn.model_selection import train_test_split\n",
    "#creating objetc of train test split\n",
    "x_train,x_test,y_train,y_test=train_test_split(x,y,test_size=0.3,random_state=1)"
   ]
  },
  {
   "cell_type": "code",
   "execution_count": 11,
   "id": "5cd7a1a5",
   "metadata": {
    "scrolled": false
   },
   "outputs": [],
   "source": [
    "#applying standarad scaler on input\n",
    "from sklearn.preprocessing import StandardScaler\n",
    "ss=StandardScaler()\n",
    "x_train=ss.fit_transform(x_train)\n",
    "x_test=ss.transform(x_test)"
   ]
  },
  {
   "cell_type": "code",
   "execution_count": 12,
   "id": "626f3701",
   "metadata": {
    "scrolled": false
   },
   "outputs": [],
   "source": [
    "#create a function \n",
    "def create_model(model):#model uset define which hold the object of algo\n",
    "    #train the model with 70%\n",
    "    model.fit(x_train,y_train)\n",
    "    #test the mdoel with 30 % data\n",
    "    y_pred=model.predict(x_test)\n",
    "    #generate report\n",
    "    from sklearn.metrics import confusion_matrix,classification_report\n",
    "    print(classification_report(y_test,y_pred))\n",
    "    print(confusion_matrix(y_test,y_pred))\n",
    "    return model"
   ]
  },
  {
   "cell_type": "markdown",
   "id": "110e1acf",
   "metadata": {},
   "source": [
    "# perform logistic regression"
   ]
  },
  {
   "cell_type": "code",
   "execution_count": 13,
   "id": "ecfd150e",
   "metadata": {
    "scrolled": false
   },
   "outputs": [],
   "source": [
    "#perform logitic model:\n",
    "from sklearn.linear_model import LogisticRegression\n",
    "lr=LogisticRegression()"
   ]
  },
  {
   "cell_type": "code",
   "execution_count": 14,
   "id": "cab5b29f",
   "metadata": {
    "scrolled": false
   },
   "outputs": [
    {
     "name": "stdout",
     "output_type": "stream",
     "text": [
      "              precision    recall  f1-score   support\n",
      "\n",
      "           0       1.00      1.00      1.00        15\n",
      "           1       0.88      0.94      0.91        16\n",
      "           2       0.92      0.86      0.89        14\n",
      "\n",
      "    accuracy                           0.93        45\n",
      "   macro avg       0.94      0.93      0.93        45\n",
      "weighted avg       0.93      0.93      0.93        45\n",
      "\n",
      "[[15  0  0]\n",
      " [ 0 15  1]\n",
      " [ 0  2 12]]\n"
     ]
    }
   ],
   "source": [
    "#create a model\n",
    "lr=create_model(lr)"
   ]
  },
  {
   "cell_type": "code",
   "execution_count": 15,
   "id": "18e05872",
   "metadata": {
    "scrolled": false
   },
   "outputs": [],
   "source": [
    "#here all the output are imp so accuracy will be of f1 score\n",
    "#here the accuracy is 0-100% 1-91% and 2-89%"
   ]
  },
  {
   "cell_type": "markdown",
   "id": "0eb35d30",
   "metadata": {},
   "source": [
    "# perform Decision trees classifier"
   ]
  },
  {
   "cell_type": "code",
   "execution_count": 16,
   "id": "8c132db4",
   "metadata": {
    "scrolled": false
   },
   "outputs": [],
   "source": [
    "#performing decision tree classifier wiht deafult a sgini index\n",
    "from sklearn.tree import DecisionTreeClassifier"
   ]
  },
  {
   "cell_type": "code",
   "execution_count": 17,
   "id": "84fd80bf",
   "metadata": {
    "scrolled": false
   },
   "outputs": [],
   "source": [
    "#create a object\n",
    "dct=DecisionTreeClassifier()"
   ]
  },
  {
   "cell_type": "code",
   "execution_count": 18,
   "id": "baf20ed3",
   "metadata": {
    "scrolled": false
   },
   "outputs": [
    {
     "name": "stdout",
     "output_type": "stream",
     "text": [
      "              precision    recall  f1-score   support\n",
      "\n",
      "           0       1.00      1.00      1.00        15\n",
      "           1       0.88      0.94      0.91        16\n",
      "           2       0.92      0.86      0.89        14\n",
      "\n",
      "    accuracy                           0.93        45\n",
      "   macro avg       0.94      0.93      0.93        45\n",
      "weighted avg       0.93      0.93      0.93        45\n",
      "\n",
      "[[15  0  0]\n",
      " [ 0 15  1]\n",
      " [ 0  2 12]]\n"
     ]
    }
   ],
   "source": [
    "dct=create_model(dct)"
   ]
  },
  {
   "cell_type": "code",
   "execution_count": 19,
   "id": "2461c8d0",
   "metadata": {
    "scrolled": false
   },
   "outputs": [],
   "source": [
    "#here we get the accuracy as 0-100 1-91 and 2-89"
   ]
  },
  {
   "cell_type": "code",
   "execution_count": 20,
   "id": "80114e71",
   "metadata": {
    "scrolled": false
   },
   "outputs": [
    {
     "data": {
      "text/plain": [
       "array([0.0196135 , 0.02206519, 0.04235444, 0.91596687])"
      ]
     },
     "execution_count": 20,
     "metadata": {},
     "output_type": "execute_result"
    }
   ],
   "source": [
    "#check important features means check information gain of each input\n",
    "dct.feature_importances_"
   ]
  },
  {
   "cell_type": "code",
   "execution_count": 21,
   "id": "b161ed70",
   "metadata": {
    "scrolled": false
   },
   "outputs": [
    {
     "data": {
      "text/html": [
       "<div>\n",
       "<style scoped>\n",
       "    .dataframe tbody tr th:only-of-type {\n",
       "        vertical-align: middle;\n",
       "    }\n",
       "\n",
       "    .dataframe tbody tr th {\n",
       "        vertical-align: top;\n",
       "    }\n",
       "\n",
       "    .dataframe thead th {\n",
       "        text-align: right;\n",
       "    }\n",
       "</style>\n",
       "<table border=\"1\" class=\"dataframe\">\n",
       "  <thead>\n",
       "    <tr style=\"text-align: right;\">\n",
       "      <th></th>\n",
       "      <th>Input</th>\n",
       "      <th>IG</th>\n",
       "    </tr>\n",
       "  </thead>\n",
       "  <tbody>\n",
       "    <tr>\n",
       "      <th>0</th>\n",
       "      <td>petal_width</td>\n",
       "      <td>0.915967</td>\n",
       "    </tr>\n",
       "    <tr>\n",
       "      <th>1</th>\n",
       "      <td>petal_length</td>\n",
       "      <td>0.042354</td>\n",
       "    </tr>\n",
       "    <tr>\n",
       "      <th>2</th>\n",
       "      <td>sepal_width</td>\n",
       "      <td>0.022065</td>\n",
       "    </tr>\n",
       "    <tr>\n",
       "      <th>3</th>\n",
       "      <td>sepal_length</td>\n",
       "      <td>0.019613</td>\n",
       "    </tr>\n",
       "  </tbody>\n",
       "</table>\n",
       "</div>"
      ],
      "text/plain": [
       "          Input        IG\n",
       "0   petal_width  0.915967\n",
       "1  petal_length  0.042354\n",
       "2   sepal_width  0.022065\n",
       "3  sepal_length  0.019613"
      ]
     },
     "execution_count": 21,
     "metadata": {},
     "output_type": "execute_result"
    }
   ],
   "source": [
    "dict={'Input':x.columns,\"IG\":dct.feature_importances_}\n",
    "df1=pd.DataFrame(dict)\n",
    "df1.sort_values(by='IG',ascending=False,ignore_index=True)#sorting the value in descending order\n",
    "#disadvantage of dct is that if there is little bit og ig is there then it will take that ig into consideration"
   ]
  },
  {
   "cell_type": "markdown",
   "id": "d3718d18",
   "metadata": {},
   "source": [
    "# to avoid overfitting in DCT use pruning tehcnique in gini index:\n"
   ]
  },
  {
   "cell_type": "code",
   "execution_count": 22,
   "id": "f6cd0b97",
   "metadata": {
    "scrolled": true
   },
   "outputs": [
    {
     "name": "stdout",
     "output_type": "stream",
     "text": [
      "              precision    recall  f1-score   support\n",
      "\n",
      "           0       1.00      1.00      1.00        15\n",
      "           1       1.00      0.94      0.97        16\n",
      "           2       0.93      1.00      0.97        14\n",
      "\n",
      "    accuracy                           0.98        45\n",
      "   macro avg       0.98      0.98      0.98        45\n",
      "weighted avg       0.98      0.98      0.98        45\n",
      "\n",
      "[[15  0  0]\n",
      " [ 0 15  1]\n",
      " [ 0  0 14]]\n"
     ]
    }
   ],
   "source": [
    "#using first method as max_depth:\n",
    "'''for i in range(1,9):\n",
    "    dct1=DecisionTreeClassifier(random_state=1,max_depth=i)\n",
    "    print(\"Max depth \",i)\n",
    "    dct1=create_model(dct1)'''\n",
    "dct1=DecisionTreeClassifier(random_state=1,max_depth=3)\n",
    "dct1=create_model(dct1)"
   ]
  },
  {
   "cell_type": "code",
   "execution_count": 23,
   "id": "bb0f1b6e",
   "metadata": {
    "scrolled": false
   },
   "outputs": [],
   "source": [
    "#by pruning technique the accuracy is increase 0-100% 1-97 and 2-97"
   ]
  },
  {
   "cell_type": "code",
   "execution_count": 24,
   "id": "61770bf3",
   "metadata": {
    "scrolled": false
   },
   "outputs": [],
   "source": [
    "#second pruningtechnique of DCT\n",
    "#2. min_samples_leaf : inbuilt parameter of DecisionTreeClassifier\n",
    "#create object of DTC classifier and passing the argumenats(parameter)\n",
    "#we are using this to reduce overfitting of the model\n",
    "'''for i in range(45,101):\n",
    "    dct2=DecisionTreeClassifier(random_state=1,min_samples_leaf=i)\n",
    "    print(\"min samples\",i)\n",
    "    dct2=create_model(dt2)'''\n",
    "dct2=DecisionTreeClassifier(random_state=1,min_samples_leaf=45)"
   ]
  },
  {
   "cell_type": "code",
   "execution_count": 25,
   "id": "f7f925e1",
   "metadata": {
    "scrolled": false
   },
   "outputs": [
    {
     "data": {
      "text/plain": [
       "array([0.0196135 , 0.02206519, 0.04235444, 0.91596687])"
      ]
     },
     "execution_count": 25,
     "metadata": {},
     "output_type": "execute_result"
    }
   ],
   "source": [
    "#check important features means check information gain of each input\n",
    "dct.feature_importances_"
   ]
  },
  {
   "cell_type": "code",
   "execution_count": 26,
   "id": "986afbc5",
   "metadata": {
    "scrolled": true
   },
   "outputs": [
    {
     "name": "stdout",
     "output_type": "stream",
     "text": [
      "              precision    recall  f1-score   support\n",
      "\n",
      "           0       0.56      1.00      0.71        15\n",
      "           1       0.00      0.00      0.00        16\n",
      "           2       0.72      0.93      0.81        14\n",
      "\n",
      "    accuracy                           0.62        45\n",
      "   macro avg       0.43      0.64      0.51        45\n",
      "weighted avg       0.41      0.62      0.49        45\n",
      "\n",
      "[[15  0  0]\n",
      " [11  0  5]\n",
      " [ 1  0 13]]\n"
     ]
    },
    {
     "name": "stderr",
     "output_type": "stream",
     "text": [
      "C:\\Users\\KUNAL\\AppData\\Local\\Programs\\Python\\Python310\\lib\\site-packages\\sklearn\\metrics\\_classification.py:1334: UndefinedMetricWarning: Precision and F-score are ill-defined and being set to 0.0 in labels with no predicted samples. Use `zero_division` parameter to control this behavior.\n",
      "  _warn_prf(average, modifier, msg_start, len(result))\n",
      "C:\\Users\\KUNAL\\AppData\\Local\\Programs\\Python\\Python310\\lib\\site-packages\\sklearn\\metrics\\_classification.py:1334: UndefinedMetricWarning: Precision and F-score are ill-defined and being set to 0.0 in labels with no predicted samples. Use `zero_division` parameter to control this behavior.\n",
      "  _warn_prf(average, modifier, msg_start, len(result))\n",
      "C:\\Users\\KUNAL\\AppData\\Local\\Programs\\Python\\Python310\\lib\\site-packages\\sklearn\\metrics\\_classification.py:1334: UndefinedMetricWarning: Precision and F-score are ill-defined and being set to 0.0 in labels with no predicted samples. Use `zero_division` parameter to control this behavior.\n",
      "  _warn_prf(average, modifier, msg_start, len(result))\n"
     ]
    }
   ],
   "source": [
    "dct2=create_model(dct2)"
   ]
  },
  {
   "cell_type": "markdown",
   "id": "a027cd90",
   "metadata": {},
   "source": [
    "# use entropy"
   ]
  },
  {
   "cell_type": "code",
   "execution_count": 27,
   "id": "0faa2c83",
   "metadata": {
    "scrolled": false
   },
   "outputs": [],
   "source": [
    "\n",
    "#passing the parameter ='entropy' by default ='giniindex' if not specified \n",
    "dct=DecisionTreeClassifier(random_state=1,criterion='entropy')\n",
    "#not applied pruning technique"
   ]
  },
  {
   "cell_type": "code",
   "execution_count": 28,
   "id": "56a0c90e",
   "metadata": {
    "scrolled": false
   },
   "outputs": [
    {
     "name": "stdout",
     "output_type": "stream",
     "text": [
      "              precision    recall  f1-score   support\n",
      "\n",
      "           0       1.00      1.00      1.00        15\n",
      "           1       0.88      0.94      0.91        16\n",
      "           2       0.92      0.86      0.89        14\n",
      "\n",
      "    accuracy                           0.93        45\n",
      "   macro avg       0.94      0.93      0.93        45\n",
      "weighted avg       0.93      0.93      0.93        45\n",
      "\n",
      "[[15  0  0]\n",
      " [ 0 15  1]\n",
      " [ 0  2 12]]\n"
     ]
    }
   ],
   "source": [
    "#call the function\n",
    "dct=create_model(dct)\n",
    "#here we get the accuracy as 0-100 1-91 and 2-89"
   ]
  },
  {
   "cell_type": "code",
   "execution_count": 29,
   "id": "a5df254a",
   "metadata": {
    "scrolled": false
   },
   "outputs": [
    {
     "name": "stdout",
     "output_type": "stream",
     "text": [
      "              precision    recall  f1-score   support\n",
      "\n",
      "           0       1.00      1.00      1.00        15\n",
      "           1       1.00      0.94      0.97        16\n",
      "           2       0.93      1.00      0.97        14\n",
      "\n",
      "    accuracy                           0.98        45\n",
      "   macro avg       0.98      0.98      0.98        45\n",
      "weighted avg       0.98      0.98      0.98        45\n",
      "\n",
      "[[15  0  0]\n",
      " [ 0 15  1]\n",
      " [ 0  0 14]]\n"
     ]
    }
   ],
   "source": [
    "#using first method as max_depth:\n",
    "'''for i in range(1,9):\n",
    "    dct1=DecisionTreeClassifier(random_state=1,max_depth=i)\n",
    "    print(\"Max depth \",i)\n",
    "    dct1=create_model(dct1)'''\n",
    "dct1=DecisionTreeClassifier(random_state=1,max_depth=3,criterion='entropy')\n",
    "dct1=create_model(dct1)"
   ]
  },
  {
   "cell_type": "code",
   "execution_count": 30,
   "id": "3df5a657",
   "metadata": {
    "scrolled": false
   },
   "outputs": [
    {
     "name": "stdout",
     "output_type": "stream",
     "text": [
      "              precision    recall  f1-score   support\n",
      "\n",
      "           0       0.56      1.00      0.71        15\n",
      "           1       0.00      0.00      0.00        16\n",
      "           2       0.72      0.93      0.81        14\n",
      "\n",
      "    accuracy                           0.62        45\n",
      "   macro avg       0.43      0.64      0.51        45\n",
      "weighted avg       0.41      0.62      0.49        45\n",
      "\n",
      "[[15  0  0]\n",
      " [11  0  5]\n",
      " [ 1  0 13]]\n"
     ]
    },
    {
     "name": "stderr",
     "output_type": "stream",
     "text": [
      "C:\\Users\\KUNAL\\AppData\\Local\\Programs\\Python\\Python310\\lib\\site-packages\\sklearn\\metrics\\_classification.py:1334: UndefinedMetricWarning: Precision and F-score are ill-defined and being set to 0.0 in labels with no predicted samples. Use `zero_division` parameter to control this behavior.\n",
      "  _warn_prf(average, modifier, msg_start, len(result))\n",
      "C:\\Users\\KUNAL\\AppData\\Local\\Programs\\Python\\Python310\\lib\\site-packages\\sklearn\\metrics\\_classification.py:1334: UndefinedMetricWarning: Precision and F-score are ill-defined and being set to 0.0 in labels with no predicted samples. Use `zero_division` parameter to control this behavior.\n",
      "  _warn_prf(average, modifier, msg_start, len(result))\n",
      "C:\\Users\\KUNAL\\AppData\\Local\\Programs\\Python\\Python310\\lib\\site-packages\\sklearn\\metrics\\_classification.py:1334: UndefinedMetricWarning: Precision and F-score are ill-defined and being set to 0.0 in labels with no predicted samples. Use `zero_division` parameter to control this behavior.\n",
      "  _warn_prf(average, modifier, msg_start, len(result))\n"
     ]
    }
   ],
   "source": [
    "#second pruningtechnique of DCT\n",
    "#2. min_samples_leaf : inbuilt parameter of DecisionTreeClassifier\n",
    "#create object of DTC classifier and passing the argumenats(parameter)\n",
    "#we are using this to reduce overfitting of the model\n",
    "'''for i in range(45,101):\n",
    "    dct2=DecisionTreeClassifier(random_state=1,min_samples_leaf=i)\n",
    "    print(\"min samples\",i)\n",
    "    dct2=create_model(dt2)'''\n",
    "dct2=DecisionTreeClassifier(random_state=1,min_samples_leaf=45,criterion='entropy')\n",
    "dct2=create_model(dct2)"
   ]
  },
  {
   "cell_type": "code",
   "execution_count": 31,
   "id": "fdcb6871",
   "metadata": {
    "scrolled": false
   },
   "outputs": [],
   "source": [
    "#after applying second pruning technique on model and we get the acccuracy as 0-71 and 2-81"
   ]
  },
  {
   "cell_type": "markdown",
   "id": "1c11d4d8",
   "metadata": {},
   "source": [
    "# Ensembling Technique"
   ]
  },
  {
   "cell_type": "markdown",
   "id": "0c76c7e5",
   "metadata": {},
   "source": [
    "# random forest classifier"
   ]
  },
  {
   "cell_type": "code",
   "execution_count": 32,
   "id": "4574bd2a",
   "metadata": {
    "scrolled": false
   },
   "outputs": [],
   "source": [
    "from sklearn.ensemble import RandomForestClassifier "
   ]
  },
  {
   "cell_type": "code",
   "execution_count": 33,
   "id": "ed3a5416",
   "metadata": {
    "scrolled": false
   },
   "outputs": [
    {
     "name": "stdout",
     "output_type": "stream",
     "text": [
      "              precision    recall  f1-score   support\n",
      "\n",
      "           0       1.00      1.00      1.00        15\n",
      "           1       1.00      0.94      0.97        16\n",
      "           2       0.93      1.00      0.97        14\n",
      "\n",
      "    accuracy                           0.98        45\n",
      "   macro avg       0.98      0.98      0.98        45\n",
      "weighted avg       0.98      0.98      0.98        45\n",
      "\n",
      "[[15  0  0]\n",
      " [ 0 15  1]\n",
      " [ 0  0 14]]\n"
     ]
    }
   ],
   "source": [
    "#create a object of Random Forest Classifier\n",
    "rfc=RandomForestClassifier(n_estimators=10,max_features=4,random_state=1)\n",
    "#n_estimators means take how many decision tree should be taken\n",
    "#min tree=10 and max tree should be 100\n",
    "'''for i in range(4,1,-1):\n",
    "    rfc=RandomForestClassifier(random_state=1,n_estimators=10,max_features=i)\n",
    "    print(\"No of features \",i)\n",
    "    #call a function\n",
    "    rfc=create_model(rfc)'''\n",
    "rfc=create_model(rfc)\n",
    "#by default it has taken gini index"
   ]
  },
  {
   "cell_type": "code",
   "execution_count": 34,
   "id": "000df739",
   "metadata": {
    "scrolled": false
   },
   "outputs": [],
   "source": [
    "#using random forest claasifier we get the accuracy as 0-100% 1-97% 2-97%"
   ]
  },
  {
   "cell_type": "markdown",
   "id": "6d546e04",
   "metadata": {},
   "source": [
    "# #ada boost"
   ]
  },
  {
   "cell_type": "code",
   "execution_count": 35,
   "id": "fd67b59c",
   "metadata": {
    "scrolled": false
   },
   "outputs": [],
   "source": [
    "from sklearn.ensemble import AdaBoostClassifier"
   ]
  },
  {
   "cell_type": "code",
   "execution_count": 36,
   "id": "600c1099",
   "metadata": {
    "scrolled": true
   },
   "outputs": [
    {
     "name": "stdout",
     "output_type": "stream",
     "text": [
      "              precision    recall  f1-score   support\n",
      "\n",
      "           0       1.00      1.00      1.00        15\n",
      "           1       0.94      0.94      0.94        16\n",
      "           2       0.93      0.93      0.93        14\n",
      "\n",
      "    accuracy                           0.96        45\n",
      "   macro avg       0.96      0.96      0.96        45\n",
      "weighted avg       0.96      0.96      0.96        45\n",
      "\n",
      "[[15  0  0]\n",
      " [ 0 15  1]\n",
      " [ 0  1 13]]\n"
     ]
    }
   ],
   "source": [
    "#create a object\n",
    "#n_estimator mean no of decsionstump and it should <=100\n",
    "#12 mean sno of input columns\n",
    "'''for i in range(1,101):\n",
    "    ada=AdaBoostClassifier(n_estimators=i,random_state=1)\n",
    "    print(\"No of decision stump\",i)\n",
    "    #call function:\n",
    "    ada=create_model(ada)'''\n",
    "\n",
    "ada=AdaBoostClassifier(n_estimators=4,random_state=1)\n",
    "ada=create_model(ada)"
   ]
  },
  {
   "cell_type": "code",
   "execution_count": 37,
   "id": "078074d3",
   "metadata": {
    "scrolled": true
   },
   "outputs": [],
   "source": [
    "#using ada boost classifer we get the accuracy as 0-100% 1-94 and 2-93% which is good"
   ]
  },
  {
   "cell_type": "markdown",
   "id": "ec2913a0",
   "metadata": {},
   "source": [
    "# gradient bosting:\n",
    "#.2 Gradient Boosting(GB) : - "
   ]
  },
  {
   "cell_type": "code",
   "execution_count": 38,
   "id": "58e95915",
   "metadata": {
    "scrolled": false
   },
   "outputs": [],
   "source": [
    "from sklearn.ensemble import GradientBoostingClassifier"
   ]
  },
  {
   "cell_type": "code",
   "execution_count": 39,
   "id": "6b367896",
   "metadata": {
    "scrolled": false
   },
   "outputs": [
    {
     "name": "stdout",
     "output_type": "stream",
     "text": [
      "              precision    recall  f1-score   support\n",
      "\n",
      "           0       1.00      1.00      1.00        15\n",
      "           1       0.88      0.94      0.91        16\n",
      "           2       0.92      0.86      0.89        14\n",
      "\n",
      "    accuracy                           0.93        45\n",
      "   macro avg       0.94      0.93      0.93        45\n",
      "weighted avg       0.93      0.93      0.93        45\n",
      "\n",
      "[[15  0  0]\n",
      " [ 0 15  1]\n",
      " [ 0  2 12]]\n"
     ]
    }
   ],
   "source": [
    "\n",
    "'''for i in range(10,101):\n",
    "    gbc=GradientBoostingClassifier(n_estimators=i,random_state=1)\n",
    "    print(\"No of estimator\",i)\n",
    "    gbc=create_model(gbc)\n",
    "#all features and all data'''\n",
    "gbc=GradientBoostingClassifier(n_estimators=10,random_state=1)\n",
    "\n",
    "gbc=create_model(gbc)"
   ]
  },
  {
   "cell_type": "code",
   "execution_count": 40,
   "id": "c50ea499",
   "metadata": {},
   "outputs": [],
   "source": [
    "##the accuracy  we get  using gradient boosting as  0-100% 1-91% 2-89%  which is good but can be better using strmer gradient boosting"
   ]
  },
  {
   "cell_type": "markdown",
   "id": "fb87acc0",
   "metadata": {},
   "source": [
    "# Extreme Gradient Boosting"
   ]
  },
  {
   "cell_type": "code",
   "execution_count": 41,
   "id": "7393c235",
   "metadata": {
    "scrolled": false
   },
   "outputs": [
    {
     "name": "stdout",
     "output_type": "stream",
     "text": [
      "Requirement already satisfied: xgboost in c:\\users\\kunal\\appdata\\local\\programs\\python\\python310\\lib\\site-packages (1.6.2)\n",
      "Requirement already satisfied: scipy in c:\\users\\kunal\\appdata\\local\\programs\\python\\python310\\lib\\site-packages (from xgboost) (1.8.1)\n",
      "Requirement already satisfied: numpy in c:\\users\\kunal\\appdata\\local\\programs\\python\\python310\\lib\\site-packages (from xgboost) (1.23.0)\n",
      "\n",
      "[notice] A new release of pip available: 22.2 -> 22.2.2\n",
      "[notice] To update, run: python.exe -m pip install --upgrade pip\n"
     ]
    }
   ],
   "source": [
    "!pip install xgboost"
   ]
  },
  {
   "cell_type": "code",
   "execution_count": 42,
   "id": "d57cf179",
   "metadata": {
    "scrolled": false
   },
   "outputs": [],
   "source": [
    "from xgboost import XGBClassifier "
   ]
  },
  {
   "cell_type": "code",
   "execution_count": 43,
   "id": "beb18a3e",
   "metadata": {
    "scrolled": false
   },
   "outputs": [
    {
     "name": "stdout",
     "output_type": "stream",
     "text": [
      "No of estimator 10\n",
      "              precision    recall  f1-score   support\n",
      "\n",
      "           0       1.00      1.00      1.00        15\n",
      "           1       0.88      0.94      0.91        16\n",
      "           2       0.92      0.86      0.89        14\n",
      "\n",
      "    accuracy                           0.93        45\n",
      "   macro avg       0.94      0.93      0.93        45\n",
      "weighted avg       0.93      0.93      0.93        45\n",
      "\n",
      "[[15  0  0]\n",
      " [ 0 15  1]\n",
      " [ 0  2 12]]\n",
      "No of estimator 11\n",
      "              precision    recall  f1-score   support\n",
      "\n",
      "           0       1.00      1.00      1.00        15\n",
      "           1       0.88      0.94      0.91        16\n",
      "           2       0.92      0.86      0.89        14\n",
      "\n",
      "    accuracy                           0.93        45\n",
      "   macro avg       0.94      0.93      0.93        45\n",
      "weighted avg       0.93      0.93      0.93        45\n",
      "\n",
      "[[15  0  0]\n",
      " [ 0 15  1]\n",
      " [ 0  2 12]]\n",
      "No of estimator 12\n",
      "              precision    recall  f1-score   support\n",
      "\n",
      "           0       1.00      1.00      1.00        15\n",
      "           1       0.88      0.94      0.91        16\n",
      "           2       0.92      0.86      0.89        14\n",
      "\n",
      "    accuracy                           0.93        45\n",
      "   macro avg       0.94      0.93      0.93        45\n",
      "weighted avg       0.93      0.93      0.93        45\n",
      "\n",
      "[[15  0  0]\n",
      " [ 0 15  1]\n",
      " [ 0  2 12]]\n",
      "No of estimator 13\n",
      "              precision    recall  f1-score   support\n",
      "\n",
      "           0       1.00      1.00      1.00        15\n",
      "           1       0.88      0.94      0.91        16\n",
      "           2       0.92      0.86      0.89        14\n",
      "\n",
      "    accuracy                           0.93        45\n",
      "   macro avg       0.94      0.93      0.93        45\n",
      "weighted avg       0.93      0.93      0.93        45\n",
      "\n",
      "[[15  0  0]\n",
      " [ 0 15  1]\n",
      " [ 0  2 12]]\n",
      "No of estimator 14\n",
      "              precision    recall  f1-score   support\n",
      "\n",
      "           0       1.00      1.00      1.00        15\n",
      "           1       0.88      0.94      0.91        16\n",
      "           2       0.92      0.86      0.89        14\n",
      "\n",
      "    accuracy                           0.93        45\n",
      "   macro avg       0.94      0.93      0.93        45\n",
      "weighted avg       0.93      0.93      0.93        45\n",
      "\n",
      "[[15  0  0]\n",
      " [ 0 15  1]\n",
      " [ 0  2 12]]\n",
      "No of estimator 15\n",
      "              precision    recall  f1-score   support\n",
      "\n",
      "           0       1.00      1.00      1.00        15\n",
      "           1       0.88      0.94      0.91        16\n",
      "           2       0.92      0.86      0.89        14\n",
      "\n",
      "    accuracy                           0.93        45\n",
      "   macro avg       0.94      0.93      0.93        45\n",
      "weighted avg       0.93      0.93      0.93        45\n",
      "\n",
      "[[15  0  0]\n",
      " [ 0 15  1]\n",
      " [ 0  2 12]]\n",
      "No of estimator 16\n",
      "              precision    recall  f1-score   support\n",
      "\n",
      "           0       1.00      1.00      1.00        15\n",
      "           1       0.88      0.94      0.91        16\n",
      "           2       0.92      0.86      0.89        14\n",
      "\n",
      "    accuracy                           0.93        45\n",
      "   macro avg       0.94      0.93      0.93        45\n",
      "weighted avg       0.93      0.93      0.93        45\n",
      "\n",
      "[[15  0  0]\n",
      " [ 0 15  1]\n",
      " [ 0  2 12]]\n",
      "No of estimator 17\n",
      "              precision    recall  f1-score   support\n",
      "\n",
      "           0       1.00      1.00      1.00        15\n",
      "           1       0.88      0.94      0.91        16\n",
      "           2       0.92      0.86      0.89        14\n",
      "\n",
      "    accuracy                           0.93        45\n",
      "   macro avg       0.94      0.93      0.93        45\n",
      "weighted avg       0.93      0.93      0.93        45\n",
      "\n",
      "[[15  0  0]\n",
      " [ 0 15  1]\n",
      " [ 0  2 12]]\n",
      "No of estimator 18\n",
      "              precision    recall  f1-score   support\n",
      "\n",
      "           0       1.00      1.00      1.00        15\n",
      "           1       0.88      0.94      0.91        16\n",
      "           2       0.92      0.86      0.89        14\n",
      "\n",
      "    accuracy                           0.93        45\n",
      "   macro avg       0.94      0.93      0.93        45\n",
      "weighted avg       0.93      0.93      0.93        45\n",
      "\n",
      "[[15  0  0]\n",
      " [ 0 15  1]\n",
      " [ 0  2 12]]\n",
      "No of estimator 19\n",
      "              precision    recall  f1-score   support\n",
      "\n",
      "           0       1.00      1.00      1.00        15\n",
      "           1       0.88      0.94      0.91        16\n",
      "           2       0.92      0.86      0.89        14\n",
      "\n",
      "    accuracy                           0.93        45\n",
      "   macro avg       0.94      0.93      0.93        45\n",
      "weighted avg       0.93      0.93      0.93        45\n",
      "\n",
      "[[15  0  0]\n",
      " [ 0 15  1]\n",
      " [ 0  2 12]]\n",
      "No of estimator 20\n",
      "              precision    recall  f1-score   support\n",
      "\n",
      "           0       1.00      1.00      1.00        15\n",
      "           1       0.88      0.94      0.91        16\n",
      "           2       0.92      0.86      0.89        14\n",
      "\n",
      "    accuracy                           0.93        45\n",
      "   macro avg       0.94      0.93      0.93        45\n",
      "weighted avg       0.93      0.93      0.93        45\n",
      "\n",
      "[[15  0  0]\n",
      " [ 0 15  1]\n",
      " [ 0  2 12]]\n",
      "No of estimator 21\n",
      "              precision    recall  f1-score   support\n",
      "\n",
      "           0       1.00      1.00      1.00        15\n",
      "           1       0.88      0.94      0.91        16\n",
      "           2       0.92      0.86      0.89        14\n",
      "\n",
      "    accuracy                           0.93        45\n",
      "   macro avg       0.94      0.93      0.93        45\n",
      "weighted avg       0.93      0.93      0.93        45\n",
      "\n",
      "[[15  0  0]\n",
      " [ 0 15  1]\n",
      " [ 0  2 12]]\n",
      "No of estimator 22\n",
      "              precision    recall  f1-score   support\n",
      "\n",
      "           0       1.00      1.00      1.00        15\n",
      "           1       0.88      0.94      0.91        16\n",
      "           2       0.92      0.86      0.89        14\n",
      "\n",
      "    accuracy                           0.93        45\n",
      "   macro avg       0.94      0.93      0.93        45\n",
      "weighted avg       0.93      0.93      0.93        45\n",
      "\n",
      "[[15  0  0]\n",
      " [ 0 15  1]\n",
      " [ 0  2 12]]\n",
      "No of estimator 23\n",
      "              precision    recall  f1-score   support\n",
      "\n",
      "           0       1.00      1.00      1.00        15\n",
      "           1       0.88      0.94      0.91        16\n",
      "           2       0.92      0.86      0.89        14\n",
      "\n",
      "    accuracy                           0.93        45\n",
      "   macro avg       0.94      0.93      0.93        45\n",
      "weighted avg       0.93      0.93      0.93        45\n",
      "\n",
      "[[15  0  0]\n",
      " [ 0 15  1]\n",
      " [ 0  2 12]]\n",
      "No of estimator 24\n",
      "              precision    recall  f1-score   support\n",
      "\n",
      "           0       1.00      1.00      1.00        15\n",
      "           1       0.88      0.94      0.91        16\n",
      "           2       0.92      0.86      0.89        14\n",
      "\n",
      "    accuracy                           0.93        45\n",
      "   macro avg       0.94      0.93      0.93        45\n",
      "weighted avg       0.93      0.93      0.93        45\n",
      "\n",
      "[[15  0  0]\n",
      " [ 0 15  1]\n",
      " [ 0  2 12]]\n",
      "No of estimator 25\n",
      "              precision    recall  f1-score   support\n",
      "\n",
      "           0       1.00      1.00      1.00        15\n",
      "           1       0.88      0.94      0.91        16\n",
      "           2       0.92      0.86      0.89        14\n",
      "\n",
      "    accuracy                           0.93        45\n",
      "   macro avg       0.94      0.93      0.93        45\n",
      "weighted avg       0.93      0.93      0.93        45\n",
      "\n",
      "[[15  0  0]\n",
      " [ 0 15  1]\n",
      " [ 0  2 12]]\n",
      "No of estimator 26\n",
      "              precision    recall  f1-score   support\n",
      "\n",
      "           0       1.00      1.00      1.00        15\n",
      "           1       0.88      0.94      0.91        16\n",
      "           2       0.92      0.86      0.89        14\n",
      "\n",
      "    accuracy                           0.93        45\n",
      "   macro avg       0.94      0.93      0.93        45\n",
      "weighted avg       0.93      0.93      0.93        45\n",
      "\n",
      "[[15  0  0]\n",
      " [ 0 15  1]\n",
      " [ 0  2 12]]\n",
      "No of estimator 27\n",
      "              precision    recall  f1-score   support\n",
      "\n",
      "           0       1.00      1.00      1.00        15\n",
      "           1       0.88      0.94      0.91        16\n",
      "           2       0.92      0.86      0.89        14\n",
      "\n",
      "    accuracy                           0.93        45\n",
      "   macro avg       0.94      0.93      0.93        45\n",
      "weighted avg       0.93      0.93      0.93        45\n",
      "\n",
      "[[15  0  0]\n",
      " [ 0 15  1]\n",
      " [ 0  2 12]]\n",
      "No of estimator 28\n",
      "              precision    recall  f1-score   support\n",
      "\n",
      "           0       1.00      1.00      1.00        15\n",
      "           1       0.88      0.94      0.91        16\n",
      "           2       0.92      0.86      0.89        14\n",
      "\n",
      "    accuracy                           0.93        45\n",
      "   macro avg       0.94      0.93      0.93        45\n",
      "weighted avg       0.93      0.93      0.93        45\n",
      "\n",
      "[[15  0  0]\n",
      " [ 0 15  1]\n",
      " [ 0  2 12]]\n",
      "No of estimator 29\n",
      "              precision    recall  f1-score   support\n",
      "\n",
      "           0       1.00      1.00      1.00        15\n",
      "           1       0.88      0.94      0.91        16\n",
      "           2       0.92      0.86      0.89        14\n",
      "\n",
      "    accuracy                           0.93        45\n",
      "   macro avg       0.94      0.93      0.93        45\n",
      "weighted avg       0.93      0.93      0.93        45\n",
      "\n",
      "[[15  0  0]\n",
      " [ 0 15  1]\n",
      " [ 0  2 12]]\n",
      "No of estimator 30\n"
     ]
    },
    {
     "name": "stdout",
     "output_type": "stream",
     "text": [
      "              precision    recall  f1-score   support\n",
      "\n",
      "           0       1.00      1.00      1.00        15\n",
      "           1       0.88      0.94      0.91        16\n",
      "           2       0.92      0.86      0.89        14\n",
      "\n",
      "    accuracy                           0.93        45\n",
      "   macro avg       0.94      0.93      0.93        45\n",
      "weighted avg       0.93      0.93      0.93        45\n",
      "\n",
      "[[15  0  0]\n",
      " [ 0 15  1]\n",
      " [ 0  2 12]]\n",
      "No of estimator 31\n",
      "              precision    recall  f1-score   support\n",
      "\n",
      "           0       1.00      1.00      1.00        15\n",
      "           1       0.88      0.94      0.91        16\n",
      "           2       0.92      0.86      0.89        14\n",
      "\n",
      "    accuracy                           0.93        45\n",
      "   macro avg       0.94      0.93      0.93        45\n",
      "weighted avg       0.93      0.93      0.93        45\n",
      "\n",
      "[[15  0  0]\n",
      " [ 0 15  1]\n",
      " [ 0  2 12]]\n",
      "No of estimator 32\n",
      "              precision    recall  f1-score   support\n",
      "\n",
      "           0       1.00      1.00      1.00        15\n",
      "           1       0.88      0.94      0.91        16\n",
      "           2       0.92      0.86      0.89        14\n",
      "\n",
      "    accuracy                           0.93        45\n",
      "   macro avg       0.94      0.93      0.93        45\n",
      "weighted avg       0.93      0.93      0.93        45\n",
      "\n",
      "[[15  0  0]\n",
      " [ 0 15  1]\n",
      " [ 0  2 12]]\n",
      "No of estimator 33\n",
      "              precision    recall  f1-score   support\n",
      "\n",
      "           0       1.00      1.00      1.00        15\n",
      "           1       0.88      0.94      0.91        16\n",
      "           2       0.92      0.86      0.89        14\n",
      "\n",
      "    accuracy                           0.93        45\n",
      "   macro avg       0.94      0.93      0.93        45\n",
      "weighted avg       0.93      0.93      0.93        45\n",
      "\n",
      "[[15  0  0]\n",
      " [ 0 15  1]\n",
      " [ 0  2 12]]\n",
      "No of estimator 34\n",
      "              precision    recall  f1-score   support\n",
      "\n",
      "           0       1.00      1.00      1.00        15\n",
      "           1       0.88      0.94      0.91        16\n",
      "           2       0.92      0.86      0.89        14\n",
      "\n",
      "    accuracy                           0.93        45\n",
      "   macro avg       0.94      0.93      0.93        45\n",
      "weighted avg       0.93      0.93      0.93        45\n",
      "\n",
      "[[15  0  0]\n",
      " [ 0 15  1]\n",
      " [ 0  2 12]]\n",
      "No of estimator 35\n",
      "              precision    recall  f1-score   support\n",
      "\n",
      "           0       1.00      1.00      1.00        15\n",
      "           1       0.88      0.94      0.91        16\n",
      "           2       0.92      0.86      0.89        14\n",
      "\n",
      "    accuracy                           0.93        45\n",
      "   macro avg       0.94      0.93      0.93        45\n",
      "weighted avg       0.93      0.93      0.93        45\n",
      "\n",
      "[[15  0  0]\n",
      " [ 0 15  1]\n",
      " [ 0  2 12]]\n",
      "No of estimator 36\n",
      "              precision    recall  f1-score   support\n",
      "\n",
      "           0       1.00      1.00      1.00        15\n",
      "           1       0.88      0.94      0.91        16\n",
      "           2       0.92      0.86      0.89        14\n",
      "\n",
      "    accuracy                           0.93        45\n",
      "   macro avg       0.94      0.93      0.93        45\n",
      "weighted avg       0.93      0.93      0.93        45\n",
      "\n",
      "[[15  0  0]\n",
      " [ 0 15  1]\n",
      " [ 0  2 12]]\n",
      "No of estimator 37\n",
      "              precision    recall  f1-score   support\n",
      "\n",
      "           0       1.00      1.00      1.00        15\n",
      "           1       0.88      0.94      0.91        16\n",
      "           2       0.92      0.86      0.89        14\n",
      "\n",
      "    accuracy                           0.93        45\n",
      "   macro avg       0.94      0.93      0.93        45\n",
      "weighted avg       0.93      0.93      0.93        45\n",
      "\n",
      "[[15  0  0]\n",
      " [ 0 15  1]\n",
      " [ 0  2 12]]\n",
      "No of estimator 38\n",
      "              precision    recall  f1-score   support\n",
      "\n",
      "           0       1.00      1.00      1.00        15\n",
      "           1       0.88      0.94      0.91        16\n",
      "           2       0.92      0.86      0.89        14\n",
      "\n",
      "    accuracy                           0.93        45\n",
      "   macro avg       0.94      0.93      0.93        45\n",
      "weighted avg       0.93      0.93      0.93        45\n",
      "\n",
      "[[15  0  0]\n",
      " [ 0 15  1]\n",
      " [ 0  2 12]]\n",
      "No of estimator 39\n",
      "              precision    recall  f1-score   support\n",
      "\n",
      "           0       1.00      1.00      1.00        15\n",
      "           1       0.88      0.94      0.91        16\n",
      "           2       0.92      0.86      0.89        14\n",
      "\n",
      "    accuracy                           0.93        45\n",
      "   macro avg       0.94      0.93      0.93        45\n",
      "weighted avg       0.93      0.93      0.93        45\n",
      "\n",
      "[[15  0  0]\n",
      " [ 0 15  1]\n",
      " [ 0  2 12]]\n",
      "No of estimator 40\n",
      "              precision    recall  f1-score   support\n",
      "\n",
      "           0       1.00      1.00      1.00        15\n",
      "           1       0.88      0.94      0.91        16\n",
      "           2       0.92      0.86      0.89        14\n",
      "\n",
      "    accuracy                           0.93        45\n",
      "   macro avg       0.94      0.93      0.93        45\n",
      "weighted avg       0.93      0.93      0.93        45\n",
      "\n",
      "[[15  0  0]\n",
      " [ 0 15  1]\n",
      " [ 0  2 12]]\n",
      "No of estimator 41\n",
      "              precision    recall  f1-score   support\n",
      "\n",
      "           0       1.00      1.00      1.00        15\n",
      "           1       0.88      0.94      0.91        16\n",
      "           2       0.92      0.86      0.89        14\n",
      "\n",
      "    accuracy                           0.93        45\n",
      "   macro avg       0.94      0.93      0.93        45\n",
      "weighted avg       0.93      0.93      0.93        45\n",
      "\n",
      "[[15  0  0]\n",
      " [ 0 15  1]\n",
      " [ 0  2 12]]\n",
      "No of estimator 42\n",
      "              precision    recall  f1-score   support\n",
      "\n",
      "           0       1.00      1.00      1.00        15\n",
      "           1       0.88      0.94      0.91        16\n",
      "           2       0.92      0.86      0.89        14\n",
      "\n",
      "    accuracy                           0.93        45\n",
      "   macro avg       0.94      0.93      0.93        45\n",
      "weighted avg       0.93      0.93      0.93        45\n",
      "\n",
      "[[15  0  0]\n",
      " [ 0 15  1]\n",
      " [ 0  2 12]]\n",
      "No of estimator 43\n",
      "              precision    recall  f1-score   support\n",
      "\n",
      "           0       1.00      1.00      1.00        15\n",
      "           1       0.88      0.94      0.91        16\n",
      "           2       0.92      0.86      0.89        14\n",
      "\n",
      "    accuracy                           0.93        45\n",
      "   macro avg       0.94      0.93      0.93        45\n",
      "weighted avg       0.93      0.93      0.93        45\n",
      "\n",
      "[[15  0  0]\n",
      " [ 0 15  1]\n",
      " [ 0  2 12]]\n",
      "No of estimator 44\n",
      "              precision    recall  f1-score   support\n",
      "\n",
      "           0       1.00      1.00      1.00        15\n",
      "           1       0.88      0.94      0.91        16\n",
      "           2       0.92      0.86      0.89        14\n",
      "\n",
      "    accuracy                           0.93        45\n",
      "   macro avg       0.94      0.93      0.93        45\n",
      "weighted avg       0.93      0.93      0.93        45\n",
      "\n",
      "[[15  0  0]\n",
      " [ 0 15  1]\n",
      " [ 0  2 12]]\n",
      "No of estimator 45\n",
      "              precision    recall  f1-score   support\n",
      "\n",
      "           0       1.00      1.00      1.00        15\n",
      "           1       0.88      0.94      0.91        16\n",
      "           2       0.92      0.86      0.89        14\n",
      "\n",
      "    accuracy                           0.93        45\n",
      "   macro avg       0.94      0.93      0.93        45\n",
      "weighted avg       0.93      0.93      0.93        45\n",
      "\n",
      "[[15  0  0]\n",
      " [ 0 15  1]\n",
      " [ 0  2 12]]\n",
      "No of estimator 46\n",
      "              precision    recall  f1-score   support\n",
      "\n",
      "           0       1.00      1.00      1.00        15\n",
      "           1       0.88      0.94      0.91        16\n",
      "           2       0.92      0.86      0.89        14\n",
      "\n",
      "    accuracy                           0.93        45\n",
      "   macro avg       0.94      0.93      0.93        45\n",
      "weighted avg       0.93      0.93      0.93        45\n",
      "\n",
      "[[15  0  0]\n",
      " [ 0 15  1]\n",
      " [ 0  2 12]]\n",
      "No of estimator 47\n",
      "              precision    recall  f1-score   support\n",
      "\n",
      "           0       1.00      1.00      1.00        15\n",
      "           1       0.88      0.94      0.91        16\n",
      "           2       0.92      0.86      0.89        14\n",
      "\n",
      "    accuracy                           0.93        45\n",
      "   macro avg       0.94      0.93      0.93        45\n",
      "weighted avg       0.93      0.93      0.93        45\n",
      "\n",
      "[[15  0  0]\n",
      " [ 0 15  1]\n",
      " [ 0  2 12]]\n",
      "No of estimator 48\n",
      "              precision    recall  f1-score   support\n",
      "\n",
      "           0       1.00      1.00      1.00        15\n",
      "           1       0.88      0.94      0.91        16\n",
      "           2       0.92      0.86      0.89        14\n",
      "\n",
      "    accuracy                           0.93        45\n",
      "   macro avg       0.94      0.93      0.93        45\n",
      "weighted avg       0.93      0.93      0.93        45\n",
      "\n",
      "[[15  0  0]\n",
      " [ 0 15  1]\n",
      " [ 0  2 12]]\n",
      "No of estimator 49\n",
      "              precision    recall  f1-score   support\n",
      "\n",
      "           0       1.00      1.00      1.00        15\n",
      "           1       0.88      0.94      0.91        16\n",
      "           2       0.92      0.86      0.89        14\n",
      "\n",
      "    accuracy                           0.93        45\n",
      "   macro avg       0.94      0.93      0.93        45\n",
      "weighted avg       0.93      0.93      0.93        45\n",
      "\n",
      "[[15  0  0]\n",
      " [ 0 15  1]\n",
      " [ 0  2 12]]\n",
      "No of estimator 50\n"
     ]
    },
    {
     "name": "stdout",
     "output_type": "stream",
     "text": [
      "              precision    recall  f1-score   support\n",
      "\n",
      "           0       1.00      1.00      1.00        15\n",
      "           1       0.88      0.94      0.91        16\n",
      "           2       0.92      0.86      0.89        14\n",
      "\n",
      "    accuracy                           0.93        45\n",
      "   macro avg       0.94      0.93      0.93        45\n",
      "weighted avg       0.93      0.93      0.93        45\n",
      "\n",
      "[[15  0  0]\n",
      " [ 0 15  1]\n",
      " [ 0  2 12]]\n",
      "No of estimator 51\n",
      "              precision    recall  f1-score   support\n",
      "\n",
      "           0       1.00      1.00      1.00        15\n",
      "           1       0.88      0.94      0.91        16\n",
      "           2       0.92      0.86      0.89        14\n",
      "\n",
      "    accuracy                           0.93        45\n",
      "   macro avg       0.94      0.93      0.93        45\n",
      "weighted avg       0.93      0.93      0.93        45\n",
      "\n",
      "[[15  0  0]\n",
      " [ 0 15  1]\n",
      " [ 0  2 12]]\n",
      "No of estimator 52\n",
      "              precision    recall  f1-score   support\n",
      "\n",
      "           0       1.00      1.00      1.00        15\n",
      "           1       0.88      0.94      0.91        16\n",
      "           2       0.92      0.86      0.89        14\n",
      "\n",
      "    accuracy                           0.93        45\n",
      "   macro avg       0.94      0.93      0.93        45\n",
      "weighted avg       0.93      0.93      0.93        45\n",
      "\n",
      "[[15  0  0]\n",
      " [ 0 15  1]\n",
      " [ 0  2 12]]\n",
      "No of estimator 53\n",
      "              precision    recall  f1-score   support\n",
      "\n",
      "           0       1.00      1.00      1.00        15\n",
      "           1       0.88      0.94      0.91        16\n",
      "           2       0.92      0.86      0.89        14\n",
      "\n",
      "    accuracy                           0.93        45\n",
      "   macro avg       0.94      0.93      0.93        45\n",
      "weighted avg       0.93      0.93      0.93        45\n",
      "\n",
      "[[15  0  0]\n",
      " [ 0 15  1]\n",
      " [ 0  2 12]]\n",
      "No of estimator 54\n",
      "              precision    recall  f1-score   support\n",
      "\n",
      "           0       1.00      1.00      1.00        15\n",
      "           1       0.88      0.94      0.91        16\n",
      "           2       0.92      0.86      0.89        14\n",
      "\n",
      "    accuracy                           0.93        45\n",
      "   macro avg       0.94      0.93      0.93        45\n",
      "weighted avg       0.93      0.93      0.93        45\n",
      "\n",
      "[[15  0  0]\n",
      " [ 0 15  1]\n",
      " [ 0  2 12]]\n",
      "No of estimator 55\n",
      "              precision    recall  f1-score   support\n",
      "\n",
      "           0       1.00      1.00      1.00        15\n",
      "           1       0.88      0.94      0.91        16\n",
      "           2       0.92      0.86      0.89        14\n",
      "\n",
      "    accuracy                           0.93        45\n",
      "   macro avg       0.94      0.93      0.93        45\n",
      "weighted avg       0.93      0.93      0.93        45\n",
      "\n",
      "[[15  0  0]\n",
      " [ 0 15  1]\n",
      " [ 0  2 12]]\n",
      "No of estimator 56\n",
      "              precision    recall  f1-score   support\n",
      "\n",
      "           0       1.00      1.00      1.00        15\n",
      "           1       0.88      0.94      0.91        16\n",
      "           2       0.92      0.86      0.89        14\n",
      "\n",
      "    accuracy                           0.93        45\n",
      "   macro avg       0.94      0.93      0.93        45\n",
      "weighted avg       0.93      0.93      0.93        45\n",
      "\n",
      "[[15  0  0]\n",
      " [ 0 15  1]\n",
      " [ 0  2 12]]\n",
      "No of estimator 57\n",
      "              precision    recall  f1-score   support\n",
      "\n",
      "           0       1.00      1.00      1.00        15\n",
      "           1       0.88      0.94      0.91        16\n",
      "           2       0.92      0.86      0.89        14\n",
      "\n",
      "    accuracy                           0.93        45\n",
      "   macro avg       0.94      0.93      0.93        45\n",
      "weighted avg       0.93      0.93      0.93        45\n",
      "\n",
      "[[15  0  0]\n",
      " [ 0 15  1]\n",
      " [ 0  2 12]]\n",
      "No of estimator 58\n",
      "              precision    recall  f1-score   support\n",
      "\n",
      "           0       1.00      1.00      1.00        15\n",
      "           1       0.88      0.94      0.91        16\n",
      "           2       0.92      0.86      0.89        14\n",
      "\n",
      "    accuracy                           0.93        45\n",
      "   macro avg       0.94      0.93      0.93        45\n",
      "weighted avg       0.93      0.93      0.93        45\n",
      "\n",
      "[[15  0  0]\n",
      " [ 0 15  1]\n",
      " [ 0  2 12]]\n",
      "No of estimator 59\n",
      "              precision    recall  f1-score   support\n",
      "\n",
      "           0       1.00      1.00      1.00        15\n",
      "           1       0.88      0.94      0.91        16\n",
      "           2       0.92      0.86      0.89        14\n",
      "\n",
      "    accuracy                           0.93        45\n",
      "   macro avg       0.94      0.93      0.93        45\n",
      "weighted avg       0.93      0.93      0.93        45\n",
      "\n",
      "[[15  0  0]\n",
      " [ 0 15  1]\n",
      " [ 0  2 12]]\n",
      "No of estimator 60\n",
      "              precision    recall  f1-score   support\n",
      "\n",
      "           0       1.00      1.00      1.00        15\n",
      "           1       0.88      0.94      0.91        16\n",
      "           2       0.92      0.86      0.89        14\n",
      "\n",
      "    accuracy                           0.93        45\n",
      "   macro avg       0.94      0.93      0.93        45\n",
      "weighted avg       0.93      0.93      0.93        45\n",
      "\n",
      "[[15  0  0]\n",
      " [ 0 15  1]\n",
      " [ 0  2 12]]\n",
      "No of estimator 61\n",
      "              precision    recall  f1-score   support\n",
      "\n",
      "           0       1.00      1.00      1.00        15\n",
      "           1       0.88      0.94      0.91        16\n",
      "           2       0.92      0.86      0.89        14\n",
      "\n",
      "    accuracy                           0.93        45\n",
      "   macro avg       0.94      0.93      0.93        45\n",
      "weighted avg       0.93      0.93      0.93        45\n",
      "\n",
      "[[15  0  0]\n",
      " [ 0 15  1]\n",
      " [ 0  2 12]]\n",
      "No of estimator 62\n",
      "              precision    recall  f1-score   support\n",
      "\n",
      "           0       1.00      1.00      1.00        15\n",
      "           1       0.88      0.94      0.91        16\n",
      "           2       0.92      0.86      0.89        14\n",
      "\n",
      "    accuracy                           0.93        45\n",
      "   macro avg       0.94      0.93      0.93        45\n",
      "weighted avg       0.93      0.93      0.93        45\n",
      "\n",
      "[[15  0  0]\n",
      " [ 0 15  1]\n",
      " [ 0  2 12]]\n",
      "No of estimator 63\n",
      "              precision    recall  f1-score   support\n",
      "\n",
      "           0       1.00      1.00      1.00        15\n",
      "           1       0.88      0.94      0.91        16\n",
      "           2       0.92      0.86      0.89        14\n",
      "\n",
      "    accuracy                           0.93        45\n",
      "   macro avg       0.94      0.93      0.93        45\n",
      "weighted avg       0.93      0.93      0.93        45\n",
      "\n",
      "[[15  0  0]\n",
      " [ 0 15  1]\n",
      " [ 0  2 12]]\n",
      "No of estimator 64\n",
      "              precision    recall  f1-score   support\n",
      "\n",
      "           0       1.00      1.00      1.00        15\n",
      "           1       0.88      0.94      0.91        16\n",
      "           2       0.92      0.86      0.89        14\n",
      "\n",
      "    accuracy                           0.93        45\n",
      "   macro avg       0.94      0.93      0.93        45\n",
      "weighted avg       0.93      0.93      0.93        45\n",
      "\n",
      "[[15  0  0]\n",
      " [ 0 15  1]\n",
      " [ 0  2 12]]\n",
      "No of estimator 65\n",
      "              precision    recall  f1-score   support\n",
      "\n",
      "           0       1.00      1.00      1.00        15\n",
      "           1       0.88      0.94      0.91        16\n",
      "           2       0.92      0.86      0.89        14\n",
      "\n",
      "    accuracy                           0.93        45\n",
      "   macro avg       0.94      0.93      0.93        45\n",
      "weighted avg       0.93      0.93      0.93        45\n",
      "\n",
      "[[15  0  0]\n",
      " [ 0 15  1]\n",
      " [ 0  2 12]]\n",
      "No of estimator 66\n",
      "              precision    recall  f1-score   support\n",
      "\n",
      "           0       1.00      1.00      1.00        15\n",
      "           1       0.88      0.94      0.91        16\n",
      "           2       0.92      0.86      0.89        14\n",
      "\n",
      "    accuracy                           0.93        45\n",
      "   macro avg       0.94      0.93      0.93        45\n",
      "weighted avg       0.93      0.93      0.93        45\n",
      "\n",
      "[[15  0  0]\n",
      " [ 0 15  1]\n",
      " [ 0  2 12]]\n",
      "No of estimator 67\n",
      "              precision    recall  f1-score   support\n",
      "\n",
      "           0       1.00      1.00      1.00        15\n",
      "           1       0.88      0.94      0.91        16\n",
      "           2       0.92      0.86      0.89        14\n",
      "\n",
      "    accuracy                           0.93        45\n",
      "   macro avg       0.94      0.93      0.93        45\n",
      "weighted avg       0.93      0.93      0.93        45\n",
      "\n",
      "[[15  0  0]\n",
      " [ 0 15  1]\n",
      " [ 0  2 12]]\n",
      "No of estimator 68\n",
      "              precision    recall  f1-score   support\n",
      "\n",
      "           0       1.00      1.00      1.00        15\n",
      "           1       0.88      0.94      0.91        16\n",
      "           2       0.92      0.86      0.89        14\n",
      "\n",
      "    accuracy                           0.93        45\n",
      "   macro avg       0.94      0.93      0.93        45\n",
      "weighted avg       0.93      0.93      0.93        45\n",
      "\n",
      "[[15  0  0]\n",
      " [ 0 15  1]\n",
      " [ 0  2 12]]\n",
      "No of estimator 69\n",
      "              precision    recall  f1-score   support\n",
      "\n",
      "           0       1.00      1.00      1.00        15\n",
      "           1       0.88      0.94      0.91        16\n",
      "           2       0.92      0.86      0.89        14\n",
      "\n",
      "    accuracy                           0.93        45\n",
      "   macro avg       0.94      0.93      0.93        45\n",
      "weighted avg       0.93      0.93      0.93        45\n",
      "\n",
      "[[15  0  0]\n",
      " [ 0 15  1]\n",
      " [ 0  2 12]]\n",
      "No of estimator 70\n"
     ]
    },
    {
     "name": "stdout",
     "output_type": "stream",
     "text": [
      "              precision    recall  f1-score   support\n",
      "\n",
      "           0       1.00      1.00      1.00        15\n",
      "           1       0.88      0.94      0.91        16\n",
      "           2       0.92      0.86      0.89        14\n",
      "\n",
      "    accuracy                           0.93        45\n",
      "   macro avg       0.94      0.93      0.93        45\n",
      "weighted avg       0.93      0.93      0.93        45\n",
      "\n",
      "[[15  0  0]\n",
      " [ 0 15  1]\n",
      " [ 0  2 12]]\n",
      "No of estimator 71\n",
      "              precision    recall  f1-score   support\n",
      "\n",
      "           0       1.00      1.00      1.00        15\n",
      "           1       0.88      0.94      0.91        16\n",
      "           2       0.92      0.86      0.89        14\n",
      "\n",
      "    accuracy                           0.93        45\n",
      "   macro avg       0.94      0.93      0.93        45\n",
      "weighted avg       0.93      0.93      0.93        45\n",
      "\n",
      "[[15  0  0]\n",
      " [ 0 15  1]\n",
      " [ 0  2 12]]\n",
      "No of estimator 72\n",
      "              precision    recall  f1-score   support\n",
      "\n",
      "           0       1.00      1.00      1.00        15\n",
      "           1       0.88      0.94      0.91        16\n",
      "           2       0.92      0.86      0.89        14\n",
      "\n",
      "    accuracy                           0.93        45\n",
      "   macro avg       0.94      0.93      0.93        45\n",
      "weighted avg       0.93      0.93      0.93        45\n",
      "\n",
      "[[15  0  0]\n",
      " [ 0 15  1]\n",
      " [ 0  2 12]]\n",
      "No of estimator 73\n",
      "              precision    recall  f1-score   support\n",
      "\n",
      "           0       1.00      1.00      1.00        15\n",
      "           1       0.88      0.94      0.91        16\n",
      "           2       0.92      0.86      0.89        14\n",
      "\n",
      "    accuracy                           0.93        45\n",
      "   macro avg       0.94      0.93      0.93        45\n",
      "weighted avg       0.93      0.93      0.93        45\n",
      "\n",
      "[[15  0  0]\n",
      " [ 0 15  1]\n",
      " [ 0  2 12]]\n",
      "No of estimator 74\n",
      "              precision    recall  f1-score   support\n",
      "\n",
      "           0       1.00      1.00      1.00        15\n",
      "           1       0.88      0.94      0.91        16\n",
      "           2       0.92      0.86      0.89        14\n",
      "\n",
      "    accuracy                           0.93        45\n",
      "   macro avg       0.94      0.93      0.93        45\n",
      "weighted avg       0.93      0.93      0.93        45\n",
      "\n",
      "[[15  0  0]\n",
      " [ 0 15  1]\n",
      " [ 0  2 12]]\n",
      "No of estimator 75\n",
      "              precision    recall  f1-score   support\n",
      "\n",
      "           0       1.00      1.00      1.00        15\n",
      "           1       0.88      0.94      0.91        16\n",
      "           2       0.92      0.86      0.89        14\n",
      "\n",
      "    accuracy                           0.93        45\n",
      "   macro avg       0.94      0.93      0.93        45\n",
      "weighted avg       0.93      0.93      0.93        45\n",
      "\n",
      "[[15  0  0]\n",
      " [ 0 15  1]\n",
      " [ 0  2 12]]\n",
      "No of estimator 76\n",
      "              precision    recall  f1-score   support\n",
      "\n",
      "           0       1.00      1.00      1.00        15\n",
      "           1       0.88      0.94      0.91        16\n",
      "           2       0.92      0.86      0.89        14\n",
      "\n",
      "    accuracy                           0.93        45\n",
      "   macro avg       0.94      0.93      0.93        45\n",
      "weighted avg       0.93      0.93      0.93        45\n",
      "\n",
      "[[15  0  0]\n",
      " [ 0 15  1]\n",
      " [ 0  2 12]]\n",
      "No of estimator 77\n",
      "              precision    recall  f1-score   support\n",
      "\n",
      "           0       1.00      1.00      1.00        15\n",
      "           1       0.88      0.94      0.91        16\n",
      "           2       0.92      0.86      0.89        14\n",
      "\n",
      "    accuracy                           0.93        45\n",
      "   macro avg       0.94      0.93      0.93        45\n",
      "weighted avg       0.93      0.93      0.93        45\n",
      "\n",
      "[[15  0  0]\n",
      " [ 0 15  1]\n",
      " [ 0  2 12]]\n",
      "No of estimator 78\n",
      "              precision    recall  f1-score   support\n",
      "\n",
      "           0       1.00      1.00      1.00        15\n",
      "           1       0.88      0.94      0.91        16\n",
      "           2       0.92      0.86      0.89        14\n",
      "\n",
      "    accuracy                           0.93        45\n",
      "   macro avg       0.94      0.93      0.93        45\n",
      "weighted avg       0.93      0.93      0.93        45\n",
      "\n",
      "[[15  0  0]\n",
      " [ 0 15  1]\n",
      " [ 0  2 12]]\n",
      "No of estimator 79\n",
      "              precision    recall  f1-score   support\n",
      "\n",
      "           0       1.00      1.00      1.00        15\n",
      "           1       0.88      0.94      0.91        16\n",
      "           2       0.92      0.86      0.89        14\n",
      "\n",
      "    accuracy                           0.93        45\n",
      "   macro avg       0.94      0.93      0.93        45\n",
      "weighted avg       0.93      0.93      0.93        45\n",
      "\n",
      "[[15  0  0]\n",
      " [ 0 15  1]\n",
      " [ 0  2 12]]\n",
      "No of estimator 80\n",
      "              precision    recall  f1-score   support\n",
      "\n",
      "           0       1.00      1.00      1.00        15\n",
      "           1       0.88      0.94      0.91        16\n",
      "           2       0.92      0.86      0.89        14\n",
      "\n",
      "    accuracy                           0.93        45\n",
      "   macro avg       0.94      0.93      0.93        45\n",
      "weighted avg       0.93      0.93      0.93        45\n",
      "\n",
      "[[15  0  0]\n",
      " [ 0 15  1]\n",
      " [ 0  2 12]]\n",
      "No of estimator 81\n",
      "              precision    recall  f1-score   support\n",
      "\n",
      "           0       1.00      1.00      1.00        15\n",
      "           1       0.88      0.94      0.91        16\n",
      "           2       0.92      0.86      0.89        14\n",
      "\n",
      "    accuracy                           0.93        45\n",
      "   macro avg       0.94      0.93      0.93        45\n",
      "weighted avg       0.93      0.93      0.93        45\n",
      "\n",
      "[[15  0  0]\n",
      " [ 0 15  1]\n",
      " [ 0  2 12]]\n",
      "No of estimator 82\n",
      "              precision    recall  f1-score   support\n",
      "\n",
      "           0       1.00      1.00      1.00        15\n",
      "           1       0.88      0.94      0.91        16\n",
      "           2       0.92      0.86      0.89        14\n",
      "\n",
      "    accuracy                           0.93        45\n",
      "   macro avg       0.94      0.93      0.93        45\n",
      "weighted avg       0.93      0.93      0.93        45\n",
      "\n",
      "[[15  0  0]\n",
      " [ 0 15  1]\n",
      " [ 0  2 12]]\n",
      "No of estimator 83\n",
      "              precision    recall  f1-score   support\n",
      "\n",
      "           0       1.00      1.00      1.00        15\n",
      "           1       0.88      0.94      0.91        16\n",
      "           2       0.92      0.86      0.89        14\n",
      "\n",
      "    accuracy                           0.93        45\n",
      "   macro avg       0.94      0.93      0.93        45\n",
      "weighted avg       0.93      0.93      0.93        45\n",
      "\n",
      "[[15  0  0]\n",
      " [ 0 15  1]\n",
      " [ 0  2 12]]\n",
      "No of estimator 84\n",
      "              precision    recall  f1-score   support\n",
      "\n",
      "           0       1.00      1.00      1.00        15\n",
      "           1       0.88      0.94      0.91        16\n",
      "           2       0.92      0.86      0.89        14\n",
      "\n",
      "    accuracy                           0.93        45\n",
      "   macro avg       0.94      0.93      0.93        45\n",
      "weighted avg       0.93      0.93      0.93        45\n",
      "\n",
      "[[15  0  0]\n",
      " [ 0 15  1]\n",
      " [ 0  2 12]]\n",
      "No of estimator 85\n",
      "              precision    recall  f1-score   support\n",
      "\n",
      "           0       1.00      1.00      1.00        15\n",
      "           1       0.88      0.94      0.91        16\n",
      "           2       0.92      0.86      0.89        14\n",
      "\n",
      "    accuracy                           0.93        45\n",
      "   macro avg       0.94      0.93      0.93        45\n",
      "weighted avg       0.93      0.93      0.93        45\n",
      "\n",
      "[[15  0  0]\n",
      " [ 0 15  1]\n",
      " [ 0  2 12]]\n",
      "No of estimator 86\n",
      "              precision    recall  f1-score   support\n",
      "\n",
      "           0       1.00      1.00      1.00        15\n",
      "           1       0.88      0.94      0.91        16\n",
      "           2       0.92      0.86      0.89        14\n",
      "\n",
      "    accuracy                           0.93        45\n",
      "   macro avg       0.94      0.93      0.93        45\n",
      "weighted avg       0.93      0.93      0.93        45\n",
      "\n",
      "[[15  0  0]\n",
      " [ 0 15  1]\n",
      " [ 0  2 12]]\n",
      "No of estimator 87\n",
      "              precision    recall  f1-score   support\n",
      "\n",
      "           0       1.00      1.00      1.00        15\n",
      "           1       0.88      0.94      0.91        16\n",
      "           2       0.92      0.86      0.89        14\n",
      "\n",
      "    accuracy                           0.93        45\n",
      "   macro avg       0.94      0.93      0.93        45\n",
      "weighted avg       0.93      0.93      0.93        45\n",
      "\n",
      "[[15  0  0]\n",
      " [ 0 15  1]\n",
      " [ 0  2 12]]\n",
      "No of estimator 88\n",
      "              precision    recall  f1-score   support\n",
      "\n",
      "           0       1.00      1.00      1.00        15\n",
      "           1       0.88      0.94      0.91        16\n",
      "           2       0.92      0.86      0.89        14\n",
      "\n",
      "    accuracy                           0.93        45\n",
      "   macro avg       0.94      0.93      0.93        45\n",
      "weighted avg       0.93      0.93      0.93        45\n",
      "\n",
      "[[15  0  0]\n",
      " [ 0 15  1]\n",
      " [ 0  2 12]]\n",
      "No of estimator 89\n",
      "              precision    recall  f1-score   support\n",
      "\n",
      "           0       1.00      1.00      1.00        15\n",
      "           1       0.88      0.94      0.91        16\n",
      "           2       0.92      0.86      0.89        14\n",
      "\n",
      "    accuracy                           0.93        45\n",
      "   macro avg       0.94      0.93      0.93        45\n",
      "weighted avg       0.93      0.93      0.93        45\n",
      "\n",
      "[[15  0  0]\n",
      " [ 0 15  1]\n",
      " [ 0  2 12]]\n",
      "No of estimator 90\n"
     ]
    },
    {
     "name": "stdout",
     "output_type": "stream",
     "text": [
      "              precision    recall  f1-score   support\n",
      "\n",
      "           0       1.00      1.00      1.00        15\n",
      "           1       0.88      0.94      0.91        16\n",
      "           2       0.92      0.86      0.89        14\n",
      "\n",
      "    accuracy                           0.93        45\n",
      "   macro avg       0.94      0.93      0.93        45\n",
      "weighted avg       0.93      0.93      0.93        45\n",
      "\n",
      "[[15  0  0]\n",
      " [ 0 15  1]\n",
      " [ 0  2 12]]\n",
      "No of estimator 91\n",
      "              precision    recall  f1-score   support\n",
      "\n",
      "           0       1.00      1.00      1.00        15\n",
      "           1       0.88      0.94      0.91        16\n",
      "           2       0.92      0.86      0.89        14\n",
      "\n",
      "    accuracy                           0.93        45\n",
      "   macro avg       0.94      0.93      0.93        45\n",
      "weighted avg       0.93      0.93      0.93        45\n",
      "\n",
      "[[15  0  0]\n",
      " [ 0 15  1]\n",
      " [ 0  2 12]]\n",
      "No of estimator 92\n",
      "              precision    recall  f1-score   support\n",
      "\n",
      "           0       1.00      1.00      1.00        15\n",
      "           1       0.88      0.94      0.91        16\n",
      "           2       0.92      0.86      0.89        14\n",
      "\n",
      "    accuracy                           0.93        45\n",
      "   macro avg       0.94      0.93      0.93        45\n",
      "weighted avg       0.93      0.93      0.93        45\n",
      "\n",
      "[[15  0  0]\n",
      " [ 0 15  1]\n",
      " [ 0  2 12]]\n",
      "No of estimator 93\n",
      "              precision    recall  f1-score   support\n",
      "\n",
      "           0       1.00      1.00      1.00        15\n",
      "           1       0.88      0.94      0.91        16\n",
      "           2       0.92      0.86      0.89        14\n",
      "\n",
      "    accuracy                           0.93        45\n",
      "   macro avg       0.94      0.93      0.93        45\n",
      "weighted avg       0.93      0.93      0.93        45\n",
      "\n",
      "[[15  0  0]\n",
      " [ 0 15  1]\n",
      " [ 0  2 12]]\n",
      "No of estimator 94\n",
      "              precision    recall  f1-score   support\n",
      "\n",
      "           0       1.00      1.00      1.00        15\n",
      "           1       0.88      0.94      0.91        16\n",
      "           2       0.92      0.86      0.89        14\n",
      "\n",
      "    accuracy                           0.93        45\n",
      "   macro avg       0.94      0.93      0.93        45\n",
      "weighted avg       0.93      0.93      0.93        45\n",
      "\n",
      "[[15  0  0]\n",
      " [ 0 15  1]\n",
      " [ 0  2 12]]\n",
      "No of estimator 95\n",
      "              precision    recall  f1-score   support\n",
      "\n",
      "           0       1.00      1.00      1.00        15\n",
      "           1       0.88      0.94      0.91        16\n",
      "           2       0.92      0.86      0.89        14\n",
      "\n",
      "    accuracy                           0.93        45\n",
      "   macro avg       0.94      0.93      0.93        45\n",
      "weighted avg       0.93      0.93      0.93        45\n",
      "\n",
      "[[15  0  0]\n",
      " [ 0 15  1]\n",
      " [ 0  2 12]]\n",
      "No of estimator 96\n",
      "              precision    recall  f1-score   support\n",
      "\n",
      "           0       1.00      1.00      1.00        15\n",
      "           1       0.88      0.94      0.91        16\n",
      "           2       0.92      0.86      0.89        14\n",
      "\n",
      "    accuracy                           0.93        45\n",
      "   macro avg       0.94      0.93      0.93        45\n",
      "weighted avg       0.93      0.93      0.93        45\n",
      "\n",
      "[[15  0  0]\n",
      " [ 0 15  1]\n",
      " [ 0  2 12]]\n",
      "No of estimator 97\n",
      "              precision    recall  f1-score   support\n",
      "\n",
      "           0       1.00      1.00      1.00        15\n",
      "           1       0.88      0.94      0.91        16\n",
      "           2       0.92      0.86      0.89        14\n",
      "\n",
      "    accuracy                           0.93        45\n",
      "   macro avg       0.94      0.93      0.93        45\n",
      "weighted avg       0.93      0.93      0.93        45\n",
      "\n",
      "[[15  0  0]\n",
      " [ 0 15  1]\n",
      " [ 0  2 12]]\n",
      "No of estimator 98\n",
      "              precision    recall  f1-score   support\n",
      "\n",
      "           0       1.00      1.00      1.00        15\n",
      "           1       0.88      0.94      0.91        16\n",
      "           2       0.92      0.86      0.89        14\n",
      "\n",
      "    accuracy                           0.93        45\n",
      "   macro avg       0.94      0.93      0.93        45\n",
      "weighted avg       0.93      0.93      0.93        45\n",
      "\n",
      "[[15  0  0]\n",
      " [ 0 15  1]\n",
      " [ 0  2 12]]\n",
      "No of estimator 99\n",
      "              precision    recall  f1-score   support\n",
      "\n",
      "           0       1.00      1.00      1.00        15\n",
      "           1       0.88      0.94      0.91        16\n",
      "           2       0.92      0.86      0.89        14\n",
      "\n",
      "    accuracy                           0.93        45\n",
      "   macro avg       0.94      0.93      0.93        45\n",
      "weighted avg       0.93      0.93      0.93        45\n",
      "\n",
      "[[15  0  0]\n",
      " [ 0 15  1]\n",
      " [ 0  2 12]]\n",
      "No of estimator 100\n",
      "              precision    recall  f1-score   support\n",
      "\n",
      "           0       1.00      1.00      1.00        15\n",
      "           1       0.88      0.94      0.91        16\n",
      "           2       0.92      0.86      0.89        14\n",
      "\n",
      "    accuracy                           0.93        45\n",
      "   macro avg       0.94      0.93      0.93        45\n",
      "weighted avg       0.93      0.93      0.93        45\n",
      "\n",
      "[[15  0  0]\n",
      " [ 0 15  1]\n",
      " [ 0  2 12]]\n"
     ]
    }
   ],
   "source": [
    "'''xgb=XGBClassifier(n_estimators=10,random_state=1,reg_alpha=1)\n",
    "#here reg_aplha=1 means yes we want ot handle overfitting and reg men regularegularisation \n",
    "#alpha and lambda is hyperparameter\n",
    "xgb=create_model(xgb)'''\n",
    "for i in range(10,101):\n",
    "    xgb=XGBClassifier(n_estimators=i,random_state=1,reg_alpha=1)\n",
    "    print(\"No of estimator\",i)\n",
    "    xgb=create_model(xgb)"
   ]
  },
  {
   "cell_type": "code",
   "execution_count": 44,
   "id": "499dbe21",
   "metadata": {},
   "outputs": [],
   "source": [
    "##the accuracy  we get  using  xtreme gradient boosting as  0-100% 1-91% 2-89%  which is good "
   ]
  },
  {
   "cell_type": "markdown",
   "id": "bf6b85b9",
   "metadata": {},
   "source": [
    "# support vector machine"
   ]
  },
  {
   "cell_type": "code",
   "execution_count": 45,
   "id": "b0157344",
   "metadata": {
    "scrolled": true
   },
   "outputs": [],
   "source": [
    "#1. Linear Separable data means Linear Kernal\n",
    "#call inbuilt class \n",
    "from sklearn.svm import LinearSVC"
   ]
  },
  {
   "cell_type": "code",
   "execution_count": 46,
   "id": "e5d7b3ee",
   "metadata": {
    "scrolled": true
   },
   "outputs": [],
   "source": [
    "#create the object of LinearSVC class\n",
    "svc=LinearSVC(random_state=1) "
   ]
  },
  {
   "cell_type": "code",
   "execution_count": 47,
   "id": "296ec6f6",
   "metadata": {
    "scrolled": true
   },
   "outputs": [
    {
     "name": "stdout",
     "output_type": "stream",
     "text": [
      "              precision    recall  f1-score   support\n",
      "\n",
      "           0       1.00      1.00      1.00        15\n",
      "           1       0.88      0.88      0.88        16\n",
      "           2       0.86      0.86      0.86        14\n",
      "\n",
      "    accuracy                           0.91        45\n",
      "   macro avg       0.91      0.91      0.91        45\n",
      "weighted avg       0.91      0.91      0.91        45\n",
      "\n",
      "[[15  0  0]\n",
      " [ 0 14  2]\n",
      " [ 0  2 12]]\n"
     ]
    }
   ],
   "source": [
    "#call function \n",
    "svc=create_model(svc)"
   ]
  },
  {
   "cell_type": "code",
   "execution_count": 48,
   "id": "66d01236",
   "metadata": {
    "scrolled": true
   },
   "outputs": [],
   "source": [
    "#without adding any error we geth the accuracy as 0-100% 1-88% 2-86 which is good but not best as com[pared to other alogrithm\n"
   ]
  },
  {
   "cell_type": "code",
   "execution_count": 49,
   "id": "a740b1d0",
   "metadata": {
    "scrolled": true
   },
   "outputs": [],
   "source": [
    "#create object of LinearSVC class and add some external error \n",
    "svc1=LinearSVC(random_state=1,C=0.001)\n"
   ]
  },
  {
   "cell_type": "code",
   "execution_count": 50,
   "id": "38f36588",
   "metadata": {
    "scrolled": true
   },
   "outputs": [
    {
     "name": "stdout",
     "output_type": "stream",
     "text": [
      "              precision    recall  f1-score   support\n",
      "\n",
      "           0       1.00      1.00      1.00        15\n",
      "           1       0.89      0.50      0.64        16\n",
      "           2       0.62      0.93      0.74        14\n",
      "\n",
      "    accuracy                           0.80        45\n",
      "   macro avg       0.84      0.81      0.79        45\n",
      "weighted avg       0.84      0.80      0.79        45\n",
      "\n",
      "[[15  0  0]\n",
      " [ 0  8  8]\n",
      " [ 0  1 13]]\n"
     ]
    }
   ],
   "source": [
    "svc1=create_model(svc1)\n",
    "#here the accuracy is not increasing after adding error "
   ]
  },
  {
   "cell_type": "markdown",
   "id": "51f4730c",
   "metadata": {},
   "source": [
    "\n",
    "# \n",
    "# Non-linear data\n",
    "#1.polynomial kernel function"
   ]
  },
  {
   "cell_type": "code",
   "execution_count": 51,
   "id": "a775e3c1",
   "metadata": {
    "scrolled": true
   },
   "outputs": [],
   "source": [
    "#SVC-support vector classifier \n",
    "from sklearn.svm import SVC"
   ]
  },
  {
   "cell_type": "code",
   "execution_count": 52,
   "id": "25675e36",
   "metadata": {
    "scrolled": true
   },
   "outputs": [
    {
     "name": "stdout",
     "output_type": "stream",
     "text": [
      "              precision    recall  f1-score   support\n",
      "\n",
      "           0       1.00      1.00      1.00        15\n",
      "           1       0.80      1.00      0.89        16\n",
      "           2       1.00      0.71      0.83        14\n",
      "\n",
      "    accuracy                           0.91        45\n",
      "   macro avg       0.93      0.90      0.91        45\n",
      "weighted avg       0.93      0.91      0.91        45\n",
      "\n",
      "[[15  0  0]\n",
      " [ 0 16  0]\n",
      " [ 0  4 10]]\n"
     ]
    }
   ],
   "source": [
    "#create  a object and specifying whcih kernel function should be passed in parameter\n",
    "svc1=SVC(random_state=1,kernel='poly')\n",
    "#call function \n",
    "svc1=create_model(svc1)\n"
   ]
  },
  {
   "cell_type": "code",
   "execution_count": 53,
   "id": "c940aec7",
   "metadata": {
    "scrolled": true
   },
   "outputs": [],
   "source": [
    "#the accuracy  we gt using ply svc as 0-100% 1-89% 2-83% "
   ]
  },
  {
   "cell_type": "code",
   "execution_count": 54,
   "id": "0473b103",
   "metadata": {
    "scrolled": true
   },
   "outputs": [
    {
     "name": "stdout",
     "output_type": "stream",
     "text": [
      "              precision    recall  f1-score   support\n",
      "\n",
      "           0       1.00      1.00      1.00        15\n",
      "           1       0.88      0.94      0.91        16\n",
      "           2       0.92      0.86      0.89        14\n",
      "\n",
      "    accuracy                           0.93        45\n",
      "   macro avg       0.94      0.93      0.93        45\n",
      "weighted avg       0.93      0.93      0.93        45\n",
      "\n",
      "[[15  0  0]\n",
      " [ 0 15  1]\n",
      " [ 0  2 12]]\n"
     ]
    }
   ],
   "source": [
    "#creat eobjet of sc of rdail basis kernel function\n",
    "svc2=SVC(random_state=1,kernel='rbf')\n",
    "svc2=create_model(svc2)"
   ]
  },
  {
   "cell_type": "code",
   "execution_count": 55,
   "id": "078034f0",
   "metadata": {
    "scrolled": true
   },
   "outputs": [],
   "source": [
    "#the accuracy  we gt using radial svc as 0-100% 1-91% 2-89% so our data set is radially distributed "
   ]
  },
  {
   "cell_type": "markdown",
   "id": "3624fdac",
   "metadata": {},
   "source": [
    "# performing kNN alogrithm"
   ]
  },
  {
   "cell_type": "code",
   "execution_count": 56,
   "id": "216b0d0b",
   "metadata": {
    "scrolled": true
   },
   "outputs": [],
   "source": [
    "from sklearn.neighbors import KNeighborsClassifier"
   ]
  },
  {
   "cell_type": "code",
   "execution_count": 57,
   "id": "e42e43e6",
   "metadata": {
    "scrolled": true
   },
   "outputs": [],
   "source": [
    "KNC=KNeighborsClassifier(n_neighbors=7,metric='minkowski',p=2)\n",
    "#p=2 means Euclidean distance means sqrt(x2-x1)*2+(y2-y1)*2\n",
    "#n_neighbors means k means select minimum point (always odd)\n",
    "#best value of k=5\n",
    "#we can increase the n_neighbors value as  5 and 7 not 6"
   ]
  },
  {
   "cell_type": "code",
   "execution_count": 58,
   "id": "d970ae49",
   "metadata": {
    "scrolled": true
   },
   "outputs": [
    {
     "name": "stdout",
     "output_type": "stream",
     "text": [
      "              precision    recall  f1-score   support\n",
      "\n",
      "           0       1.00      1.00      1.00        15\n",
      "           1       0.94      0.94      0.94        16\n",
      "           2       0.93      0.93      0.93        14\n",
      "\n",
      "    accuracy                           0.96        45\n",
      "   macro avg       0.96      0.96      0.96        45\n",
      "weighted avg       0.96      0.96      0.96        45\n",
      "\n",
      "[[15  0  0]\n",
      " [ 0 15  1]\n",
      " [ 0  1 13]]\n"
     ]
    }
   ],
   "source": [
    "KNC=create_model(KNC)"
   ]
  },
  {
   "cell_type": "code",
   "execution_count": 59,
   "id": "6c9e549e",
   "metadata": {
    "scrolled": true
   },
   "outputs": [],
   "source": [
    "# so the accuracy we get at n_nighbors=7 is 0-100% 1-94% 2-93% which is good"
   ]
  },
  {
   "cell_type": "code",
   "execution_count": null,
   "id": "2c06b0cf",
   "metadata": {
    "scrolled": true
   },
   "outputs": [],
   "source": [
    "#conclusion : in this data set .from all the classification we get best accuracy in  random forst classifier as 0-100% 1-97% 2-97%"
   ]
  }
 ],
 "metadata": {
  "kernelspec": {
   "display_name": "Python 3 (ipykernel)",
   "language": "python",
   "name": "python3"
  },
  "language_info": {
   "codemirror_mode": {
    "name": "ipython",
    "version": 3
   },
   "file_extension": ".py",
   "mimetype": "text/x-python",
   "name": "python",
   "nbconvert_exporter": "python",
   "pygments_lexer": "ipython3",
   "version": "3.10.5"
  }
 },
 "nbformat": 4,
 "nbformat_minor": 5
}
